{
 "cells": [
  {
   "cell_type": "code",
   "execution_count": 1,
   "metadata": {},
   "outputs": [],
   "source": [
    "#%load_ext autoreload\n",
    "#%autoreload 2\n",
    "\n",
    "import pandas as pd\n",
    "import numpy as np\n",
    "import time\n",
    "import turicreate as tc\n",
    "from sklearn.model_selection import train_test_split\n",
    "\n",
    "import sys\n",
    "sys.path.append(\"..\")\n",
    "#import scripts.data_layer as data_layer"
   ]
  },
  {
   "cell_type": "code",
   "execution_count": 6,
   "metadata": {},
   "outputs": [
    {
     "name": "stdout",
     "output_type": "stream",
     "text": [
      "(421, 1)\n",
      "(5308, 2)\n",
      "Execution time: 0.04 minutes\n",
      "(2032, 3)\n"
     ]
    },
    {
     "data": {
      "text/html": [
       "<pre>Warning: Ignoring columns purchase_count;</pre>"
      ],
      "text/plain": [
       "Warning: Ignoring columns purchase_count;"
      ]
     },
     "metadata": {},
     "output_type": "display_data"
    },
    {
     "data": {
      "text/html": [
       "<pre>    To use these columns in scoring predictions, use a model that allows the use of additional features.</pre>"
      ],
      "text/plain": [
       "    To use these columns in scoring predictions, use a model that allows the use of additional features."
      ]
     },
     "metadata": {},
     "output_type": "display_data"
    },
    {
     "data": {
      "text/html": [
       "<pre>Preparing data set.</pre>"
      ],
      "text/plain": [
       "Preparing data set."
      ]
     },
     "metadata": {},
     "output_type": "display_data"
    },
    {
     "data": {
      "text/html": [
       "<pre>    Data has 2032 observations with 421 users and 105 items.</pre>"
      ],
      "text/plain": [
       "    Data has 2032 observations with 421 users and 105 items."
      ]
     },
     "metadata": {},
     "output_type": "display_data"
    },
    {
     "data": {
      "text/html": [
       "<pre>    Data prepared in: 0.2851s</pre>"
      ],
      "text/plain": [
       "    Data prepared in: 0.2851s"
      ]
     },
     "metadata": {},
     "output_type": "display_data"
    },
    {
     "data": {
      "text/html": [
       "<pre>Training model from provided data.</pre>"
      ],
      "text/plain": [
       "Training model from provided data."
      ]
     },
     "metadata": {},
     "output_type": "display_data"
    },
    {
     "data": {
      "text/html": [
       "<pre>Gathering per-item and per-user statistics.</pre>"
      ],
      "text/plain": [
       "Gathering per-item and per-user statistics."
      ]
     },
     "metadata": {},
     "output_type": "display_data"
    },
    {
     "data": {
      "text/html": [
       "<pre>+--------------------------------+------------+</pre>"
      ],
      "text/plain": [
       "+--------------------------------+------------+"
      ]
     },
     "metadata": {},
     "output_type": "display_data"
    },
    {
     "data": {
      "text/html": [
       "<pre>| Elapsed Time (Item Statistics) | % Complete |</pre>"
      ],
      "text/plain": [
       "| Elapsed Time (Item Statistics) | % Complete |"
      ]
     },
     "metadata": {},
     "output_type": "display_data"
    },
    {
     "data": {
      "text/html": [
       "<pre>+--------------------------------+------------+</pre>"
      ],
      "text/plain": [
       "+--------------------------------+------------+"
      ]
     },
     "metadata": {},
     "output_type": "display_data"
    },
    {
     "data": {
      "text/html": [
       "<pre>| 39.098ms                       | 100        |</pre>"
      ],
      "text/plain": [
       "| 39.098ms                       | 100        |"
      ]
     },
     "metadata": {},
     "output_type": "display_data"
    },
    {
     "data": {
      "text/html": [
       "<pre>+--------------------------------+------------+</pre>"
      ],
      "text/plain": [
       "+--------------------------------+------------+"
      ]
     },
     "metadata": {},
     "output_type": "display_data"
    },
    {
     "data": {
      "text/html": [
       "<pre>Setting up lookup tables.</pre>"
      ],
      "text/plain": [
       "Setting up lookup tables."
      ]
     },
     "metadata": {},
     "output_type": "display_data"
    },
    {
     "data": {
      "text/html": [
       "<pre>Processing data in one pass using dense lookup tables.</pre>"
      ],
      "text/plain": [
       "Processing data in one pass using dense lookup tables."
      ]
     },
     "metadata": {},
     "output_type": "display_data"
    },
    {
     "data": {
      "text/html": [
       "<pre>+-------------------------------------+------------------+-----------------+</pre>"
      ],
      "text/plain": [
       "+-------------------------------------+------------------+-----------------+"
      ]
     },
     "metadata": {},
     "output_type": "display_data"
    },
    {
     "data": {
      "text/html": [
       "<pre>| Elapsed Time (Constructing Lookups) | Total % Complete | Items Processed |</pre>"
      ],
      "text/plain": [
       "| Elapsed Time (Constructing Lookups) | Total % Complete | Items Processed |"
      ]
     },
     "metadata": {},
     "output_type": "display_data"
    },
    {
     "data": {
      "text/html": [
       "<pre>+-------------------------------------+------------------+-----------------+</pre>"
      ],
      "text/plain": [
       "+-------------------------------------+------------------+-----------------+"
      ]
     },
     "metadata": {},
     "output_type": "display_data"
    },
    {
     "data": {
      "text/html": [
       "<pre>| 84.762ms                            | 0.25             | 0               |</pre>"
      ],
      "text/plain": [
       "| 84.762ms                            | 0.25             | 0               |"
      ]
     },
     "metadata": {},
     "output_type": "display_data"
    },
    {
     "data": {
      "text/html": [
       "<pre>| 103.187ms                           | 100              | 105             |</pre>"
      ],
      "text/plain": [
       "| 103.187ms                           | 100              | 105             |"
      ]
     },
     "metadata": {},
     "output_type": "display_data"
    },
    {
     "data": {
      "text/html": [
       "<pre>+-------------------------------------+------------------+-----------------+</pre>"
      ],
      "text/plain": [
       "+-------------------------------------+------------------+-----------------+"
      ]
     },
     "metadata": {},
     "output_type": "display_data"
    },
    {
     "data": {
      "text/html": [
       "<pre>Finalizing lookup tables.</pre>"
      ],
      "text/plain": [
       "Finalizing lookup tables."
      ]
     },
     "metadata": {},
     "output_type": "display_data"
    },
    {
     "data": {
      "text/html": [
       "<pre>Generating candidate set for working with new users.</pre>"
      ],
      "text/plain": [
       "Generating candidate set for working with new users."
      ]
     },
     "metadata": {},
     "output_type": "display_data"
    },
    {
     "data": {
      "text/html": [
       "<pre>Finished training in 1.12726s</pre>"
      ],
      "text/plain": [
       "Finished training in 1.12726s"
      ]
     },
     "metadata": {},
     "output_type": "display_data"
    },
    {
     "name": "stdout",
     "output_type": "stream",
     "text": [
      "+--------------------+-----------+----------------------+------+\n",
      "|     customerId     | productId |        score         | rank |\n",
      "+--------------------+-----------+----------------------+------+\n",
      "|  AARTHI9840277327  |  GOTRLLRD | 0.11992592470986503  |  1   |\n",
      "|  AARTHI9840277327  |  GHCOCADE | 0.09497458594185966  |  2   |\n",
      "|  AARTHI9840277327  |  GHOLIODY |  0.0903415594782148  |  3   |\n",
      "|  AARTHI9840277327  |  GHCHSTHA |  0.0895000696182251  |  4   |\n",
      "|  AARTHI9840277327  |  GHGLNOAM | 0.08482720170702253  |  5   |\n",
      "|  AARTHI9840277327  |  GHHCUTNR |  0.0770931329045977  |  6   |\n",
      "|  AARTHI9840277327  |  GHGLNTOP | 0.07513303416115898  |  7   |\n",
      "|  AARTHI9840277327  |  GHALSTTM | 0.06333546979086739  |  8   |\n",
      "|  AARTHI9840277327  |  GSFARIAL | 0.06166854075023106  |  9   |\n",
      "|  AARTHI9840277327  |  GHCHSTOP |  0.0609325681413923  |  10  |\n",
      "| AATHIVA9626640440  |  GSMOUBET | 0.23674056927363077  |  1   |\n",
      "| AATHIVA9626640440  |  GSSHAVIN | 0.13111121455828348  |  2   |\n",
      "| AATHIVA9626640440  |  GBDEFANE | 0.09519033630688985  |  3   |\n",
      "| AATHIVA9626640440  |  GOTRLLRD | 0.08780837059020996  |  4   |\n",
      "| AATHIVA9626640440  |  GHOLIODY | 0.06107291579246521  |  5   |\n",
      "| AATHIVA9626640440  |  GHCOCADE | 0.056409080823262535 |  6   |\n",
      "| AATHIVA9626640440  |  GHGLNOAM | 0.054667035738627114 |  7   |\n",
      "| AATHIVA9626640440  |  GHGLNTOP | 0.051556915044784546 |  8   |\n",
      "| AATHIVA9626640440  |  GHCHSTOP | 0.051254481077194214 |  9   |\n",
      "| AATHIVA9626640440  |  GHHCUTNR | 0.04802712798118591  |  10  |\n",
      "| ABHIJITH9618868683 |  GSSHAVIN | 0.24076330661773682  |  1   |\n",
      "| ABHIJITH9618868683 |  GBDEFANE | 0.16078278422355652  |  2   |\n",
      "| ABHIJITH9618868683 |  GOTRLLRD | 0.14837560057640076  |  3   |\n",
      "| ABHIJITH9618868683 |  GHCOCADE | 0.10931473970413208  |  4   |\n",
      "| ABHIJITH9618868683 |  GHOLIODY | 0.10546067357063293  |  5   |\n",
      "| ABHIJITH9618868683 |  GHCHSTHA | 0.09525567293167114  |  6   |\n",
      "| ABHIJITH9618868683 |  GHHCUTNR | 0.08873242139816284  |  7   |\n",
      "| ABHIJITH9618868683 |  GHGLNOAM | 0.07433560490608215  |  8   |\n",
      "| ABHIJITH9618868683 |  GHALSTTM | 0.07260575890541077  |  9   |\n",
      "| ABHIJITH9618868683 |  GHGLNTOP | 0.06939342617988586  |  10  |\n",
      "+--------------------+-----------+----------------------+------+\n",
      "[4210 rows x 4 columns]\n",
      "\n"
     ]
    },
    {
     "data": {
      "text/html": [
       "<div>\n",
       "<style scoped>\n",
       "    .dataframe tbody tr th:only-of-type {\n",
       "        vertical-align: middle;\n",
       "    }\n",
       "\n",
       "    .dataframe tbody tr th {\n",
       "        vertical-align: top;\n",
       "    }\n",
       "\n",
       "    .dataframe thead th {\n",
       "        text-align: right;\n",
       "    }\n",
       "</style>\n",
       "<table border=\"1\" class=\"dataframe\">\n",
       "  <thead>\n",
       "    <tr style=\"text-align: right;\">\n",
       "      <th></th>\n",
       "      <th>customerId</th>\n",
       "      <th>productId</th>\n",
       "      <th>score</th>\n",
       "      <th>rank</th>\n",
       "      <th>Descr</th>\n",
       "    </tr>\n",
       "  </thead>\n",
       "  <tbody>\n",
       "    <tr>\n",
       "      <th>0</th>\n",
       "      <td>AARTHI9840277327</td>\n",
       "      <td>GHCOCADE</td>\n",
       "      <td>0.094975</td>\n",
       "      <td>2</td>\n",
       "      <td>COCONUT CADENCE H.MSG - (GEN)</td>\n",
       "    </tr>\n",
       "    <tr>\n",
       "      <th>338</th>\n",
       "      <td>AARTHI9840277327</td>\n",
       "      <td>GHOLIODY</td>\n",
       "      <td>0.090342</td>\n",
       "      <td>3</td>\n",
       "      <td>OLIVE ODYSSEY H.MSG - (GEN)</td>\n",
       "    </tr>\n",
       "    <tr>\n",
       "      <th>666</th>\n",
       "      <td>AARTHI9840277327</td>\n",
       "      <td>GHCHSTHA</td>\n",
       "      <td>0.089500</td>\n",
       "      <td>4</td>\n",
       "      <td>CHANGE OF STYLE HAIRCUT  - (GEN)</td>\n",
       "    </tr>\n",
       "    <tr>\n",
       "      <th>960</th>\n",
       "      <td>AARTHI9840277327</td>\n",
       "      <td>GHGLNOAM</td>\n",
       "      <td>0.084827</td>\n",
       "      <td>5</td>\n",
       "      <td>GLOBAL -NON AMMONIA  COLOR - (GEN)</td>\n",
       "    </tr>\n",
       "    <tr>\n",
       "      <th>1235</th>\n",
       "      <td>AARTHI9840277327</td>\n",
       "      <td>GHGLNTOP</td>\n",
       "      <td>0.075133</td>\n",
       "      <td>7</td>\n",
       "      <td>GLOBAL -NON AMMONIA  COLOR - (GEN) - SENIOR</td>\n",
       "    </tr>\n",
       "    <tr>\n",
       "      <th>...</th>\n",
       "      <td>...</td>\n",
       "      <td>...</td>\n",
       "      <td>...</td>\n",
       "      <td>...</td>\n",
       "      <td>...</td>\n",
       "    </tr>\n",
       "    <tr>\n",
       "      <th>665</th>\n",
       "      <td>YUGENDRA9845511172</td>\n",
       "      <td>GHOLIODY</td>\n",
       "      <td>0.101636</td>\n",
       "      <td>5</td>\n",
       "      <td>OLIVE ODYSSEY H.MSG - (GEN)</td>\n",
       "    </tr>\n",
       "    <tr>\n",
       "      <th>959</th>\n",
       "      <td>YUGENDRA9845511172</td>\n",
       "      <td>GHCHSTHA</td>\n",
       "      <td>0.100657</td>\n",
       "      <td>6</td>\n",
       "      <td>CHANGE OF STYLE HAIRCUT  - (GEN)</td>\n",
       "    </tr>\n",
       "    <tr>\n",
       "      <th>337</th>\n",
       "      <td>YUGENDRA9845511172</td>\n",
       "      <td>GHCOCADE</td>\n",
       "      <td>0.098899</td>\n",
       "      <td>7</td>\n",
       "      <td>COCONUT CADENCE H.MSG - (GEN)</td>\n",
       "    </tr>\n",
       "    <tr>\n",
       "      <th>1234</th>\n",
       "      <td>YUGENDRA9845511172</td>\n",
       "      <td>GHGLNOAM</td>\n",
       "      <td>0.082383</td>\n",
       "      <td>8</td>\n",
       "      <td>GLOBAL -NON AMMONIA  COLOR - (GEN)</td>\n",
       "    </tr>\n",
       "    <tr>\n",
       "      <th>1461</th>\n",
       "      <td>YUGENDRA9845511172</td>\n",
       "      <td>GHGLNTOP</td>\n",
       "      <td>0.060974</td>\n",
       "      <td>10</td>\n",
       "      <td>GLOBAL -NON AMMONIA  COLOR - (GEN) - SENIOR</td>\n",
       "    </tr>\n",
       "  </tbody>\n",
       "</table>\n",
       "<p>2592 rows × 5 columns</p>\n",
       "</div>"
      ],
      "text/plain": [
       "              customerId productId     score  rank  \\\n",
       "0       AARTHI9840277327  GHCOCADE  0.094975     2   \n",
       "338     AARTHI9840277327  GHOLIODY  0.090342     3   \n",
       "666     AARTHI9840277327  GHCHSTHA  0.089500     4   \n",
       "960     AARTHI9840277327  GHGLNOAM  0.084827     5   \n",
       "1235    AARTHI9840277327  GHGLNTOP  0.075133     7   \n",
       "...                  ...       ...       ...   ...   \n",
       "665   YUGENDRA9845511172  GHOLIODY  0.101636     5   \n",
       "959   YUGENDRA9845511172  GHCHSTHA  0.100657     6   \n",
       "337   YUGENDRA9845511172  GHCOCADE  0.098899     7   \n",
       "1234  YUGENDRA9845511172  GHGLNOAM  0.082383     8   \n",
       "1461  YUGENDRA9845511172  GHGLNTOP  0.060974    10   \n",
       "\n",
       "                                            Descr  \n",
       "0                   COCONUT CADENCE H.MSG - (GEN)  \n",
       "338                   OLIVE ODYSSEY H.MSG - (GEN)  \n",
       "666              CHANGE OF STYLE HAIRCUT  - (GEN)  \n",
       "960            GLOBAL -NON AMMONIA  COLOR - (GEN)  \n",
       "1235  GLOBAL -NON AMMONIA  COLOR - (GEN) - SENIOR  \n",
       "...                                           ...  \n",
       "665                   OLIVE ODYSSEY H.MSG - (GEN)  \n",
       "959              CHANGE OF STYLE HAIRCUT  - (GEN)  \n",
       "337                 COCONUT CADENCE H.MSG - (GEN)  \n",
       "1234           GLOBAL -NON AMMONIA  COLOR - (GEN)  \n",
       "1461  GLOBAL -NON AMMONIA  COLOR - (GEN) - SENIOR  \n",
       "\n",
       "[2592 rows x 5 columns]"
      ]
     },
     "execution_count": 6,
     "metadata": {},
     "output_type": "execute_result"
    }
   ],
   "source": [
    "# Function to Categorise clients\n",
    "def categorise(data,gender):\n",
    "    #Filter Gender as Men from dump\n",
    "    dump_data=data[data[\"Gender\"]==gender]\n",
    "\n",
    "    #Filter required columns\n",
    "    data1=dump_data.drop(['Client_Category','Qty','Tax','Retail_Price','Mem_Disc','Oth_Disc'],axis=1)\n",
    "\n",
    "    #Derive frequency of clients as featured column\n",
    "    data1['Frequency']=data1.groupby(\"ClientID\")[\"Created_Date2\"].transform('nunique')\n",
    "    #Derive total lifetime spendings of clients as featured column\n",
    "    data1['Spendings']=data1.groupby(\"ClientID\")[\"Total\"].transform('sum')\n",
    "\n",
    "    #Function to categorise clients based on frequency &  spendings\n",
    "    def f(row):\n",
    "        if row['Frequency'] >= 9:\n",
    "            val = 'Loyal'\n",
    "        elif row['Frequency'] == 1:\n",
    "            val = 'Walkin'\n",
    "        elif row['Frequency'] > 4 and  row['Spendings'] >= 50000:\n",
    "            val = 'Premium'\n",
    "        elif row['Frequency'] > 4 and  row['Spendings'] >= 35000:\n",
    "            val = 'VIP'\n",
    "        elif row['Frequency'] >=2 :\n",
    "            val='Repeat'\n",
    "        else:\n",
    "            val=\"others\"    \n",
    "        return val\n",
    "\n",
    "    #Derive category of clients based on frequency &  spendings as featured column\n",
    "    data1['Client_Category'] = data1.apply(f, axis=1)\n",
    "\n",
    "    #Save file to csv\n",
    "    return data1\n",
    "\n",
    "## Prepare Data\n",
    "# Function to get freq data\n",
    "def data_freq(data,client_category):\n",
    "    #Modify Date column\n",
    "    data[['Created_Date2']] = data[['Created_Date2']].applymap(str)\\\n",
    "                                                     .applymap(lambda s: \"{}/{}/{}\".format(s[4:6],s[6:], s[0:4]))\n",
    "    #Filter Services\n",
    "    data_1 = data[data['Type']=='S']\n",
    "    #Filter Cliet category\n",
    "    data_1 = data_1[data_1['Client_Category']==client_category]\n",
    "    #Filter required columns\n",
    "    data_1 = data_1[['ClientID','ProdID','Created_Date2']]\n",
    "\n",
    "    #Clients unique\n",
    "    customers = pd.DataFrame(np.unique(data_1['ClientID']))\n",
    "    customers.columns = ['customerId']\n",
    "\n",
    "    #Transactions\n",
    "    transactions = data_1.groupby(['ClientID','Created_Date2']).agg({\"ProdID\":lambda x : \"|\".join(x)}).reset_index()\n",
    "    transactions = transactions[['ClientID','ProdID']]\n",
    "    transactions.columns = ['customerId','products']\n",
    "    transactions['products'] = transactions['products'].apply(lambda x: [str(i) for i in x.split('|')])\n",
    "\n",
    "    print(customers.shape)\n",
    "    print(transactions.shape)\n",
    "\n",
    "    s=time.time()\n",
    "\n",
    "    data = pd.melt(transactions.set_index('customerId')['products'].apply(pd.Series).reset_index(), \n",
    "                 id_vars=['customerId'],\n",
    "                 value_name='products') \\\n",
    "        .dropna().drop(['variable'], axis=1) \\\n",
    "        .groupby(['customerId', 'products']) \\\n",
    "        .agg({'products': 'count'}) \\\n",
    "        .rename(columns={'products': 'purchase_count'}) \\\n",
    "        .reset_index() \\\n",
    "        .rename(columns={'products': 'productId'})\n",
    "    data['productId'] = data['productId'].astype(str)\n",
    "\n",
    "    print(\"Execution time:\", round((time.time()-s)/60,2), \"minutes\")\n",
    "    print(data.shape)\n",
    "    return data,customers\n",
    "\n",
    "# Function to Create data dummy\n",
    "def create_data_dummy(data):\n",
    "    data_dummy = data.copy()\n",
    "    data_dummy['purchase_dummy'] = 1\n",
    "    return data_dummy\n",
    "\n",
    "# Function to Create data normalized\n",
    "def normalize_data(data):\n",
    "    df_matrix = pd.pivot_table(data, values='purchase_count', index='customerId', columns='productId')\n",
    "    df_matrix_norm = (df_matrix-df_matrix.min())/(df_matrix.max()-df_matrix.min())\n",
    "    d = df_matrix_norm.reset_index()\n",
    "    d.index.names = ['scaled_purchase_freq']\n",
    "    return pd.melt(d, id_vars=['customerId'], value_name='scaled_purchase_freq').dropna()\n",
    "\n",
    "# Function to Test train data split\n",
    "def split_data(data):\n",
    "    train, test = train_test_split(data, test_size = .2)\n",
    "    train_data = tc.SFrame(train)\n",
    "    test_data = tc.SFrame(test)\n",
    "    return train_data, test_data\n",
    "\n",
    "# Function to model selection\n",
    "def model(train_data, name, user_id, item_id, target, users_to_recommend, n_rec, n_display):\n",
    "    if name == 'popularity':\n",
    "        model = tc.popularity_recommender.create(train_data, \n",
    "                                                    user_id=user_id, \n",
    "                                                    item_id=item_id, \n",
    "                                                    target=target)\n",
    "    elif name == 'cosine':\n",
    "        model = tc.item_similarity_recommender.create(train_data, \n",
    "                                                    user_id=user_id, \n",
    "                                                    item_id=item_id, \n",
    "                                                    target=target,\n",
    "                                                    similarity_type='cosine')\n",
    "    elif name == 'pearson':\n",
    "        model = tc.item_similarity_recommender.create(train_data, \n",
    "                                                    user_id=user_id, \n",
    "                                                    item_id=item_id, \n",
    "                                                    target=target, \n",
    "                                                    similarity_type='pearson')\n",
    "    elif name == 'jaccard':\n",
    "        model = tc.item_similarity_recommender.create(train_data, \n",
    "                                                    user_id=user_id, \n",
    "                                                    item_id=item_id, \n",
    "                                                    target=target, \n",
    "                                                    similarity_type='jaccard')\n",
    "        \n",
    "    recom = model.recommend(users=users_to_recommend, k=n_rec)\n",
    "    recom.print_rows(n_display)\n",
    "    return model\n",
    "\n",
    "# Function to get product vs description\n",
    "def product_descr(item_data,gender,client_category):\n",
    "    item_data = item_data[item_data['Type']=='S']\n",
    "    item_data = item_data[(item_data['Gender']==gender) & (item_data['Client_Category']==client_category)]\n",
    "    item_data = item_data[['ProdID','Descr']].drop_duplicates()\n",
    "    item_data.columns = ['productId','Descr']\n",
    "    return item_data\n",
    "    \n",
    "# Load data\n",
    "dump_data1=pd.read_csv(\"datadump_cleaned.csv\")\n",
    "\n",
    "#Load item description cleaned data\n",
    "item_data = pd.read_csv(\"datadump_cleaned_v1.csv\")\n",
    "item_data = product_descr(item_data,'Men','Loyal')\n",
    "\n",
    "# Generate data filtered by gender\n",
    "data = categorise(dump_data1,\"Men\")\n",
    "# Generate transformed data filtered by client category\n",
    "data,customers = data_freq(data,'Loyal')\n",
    "\n",
    "# Generate dummy table and scaled/normalized purchase table\n",
    "data_dummy = create_data_dummy(data)\n",
    "data_norm = normalize_data(data)\n",
    "\n",
    "# Split dummy table and scaled/normalized purchase table\n",
    "train_data_dummy, test_data_dummy = split_data(data_dummy)\n",
    "train_data_norm, test_data_norm = split_data(data_norm)\n",
    "\n",
    "# variables to define field names_constant variables include:\n",
    "user_id = 'customerId'\n",
    "item_id = 'productId'\n",
    "users_to_recommend = list(customers[user_id])\n",
    "n_rec = 10 # number of items to recommend\n",
    "n_display = 30 # to print the head / first few rows in a defined dataset\n",
    "\n",
    "# Model\n",
    "final_model = tc.item_similarity_recommender.create(tc.SFrame(data_dummy), \n",
    "                                            user_id=user_id, \n",
    "                                            item_id=item_id, \n",
    "                                            target='purchase_dummy', \n",
    "                                            similarity_type='jaccard')\n",
    "#final_model = tc.item_similarity_recommender.create(tc.SFrame(data_norm), \n",
    "#target='scaled_purchase_freq', similarity_type='cosine', similarity_type='jaccard'\n",
    "\n",
    "recom = final_model.recommend(users=users_to_recommend, k=n_rec)\n",
    "#final_model.save('my_model')\n",
    "recom.print_rows(n_display)\n",
    "df_rec = recom.to_dataframe()\n",
    "\n",
    "rec = df_rec\n",
    "pd.merge(rec,item_data,on='productId').sort_values(by=['customerId','rank'])"
   ]
  },
  {
   "cell_type": "code",
   "execution_count": 39,
   "metadata": {},
   "outputs": [],
   "source": [
    "#data.groupby('customerId').sum().reset_index().sort_values(by='purchase_count',ascending=False).head(5)"
   ]
  },
  {
   "cell_type": "markdown",
   "metadata": {},
   "source": [
    "### 8.2. User History"
   ]
  },
  {
   "cell_type": "code",
   "execution_count": 11,
   "metadata": {},
   "outputs": [
    {
     "data": {
      "text/html": [
       "<div>\n",
       "<style scoped>\n",
       "    .dataframe tbody tr th:only-of-type {\n",
       "        vertical-align: middle;\n",
       "    }\n",
       "\n",
       "    .dataframe tbody tr th {\n",
       "        vertical-align: top;\n",
       "    }\n",
       "\n",
       "    .dataframe thead th {\n",
       "        text-align: right;\n",
       "    }\n",
       "</style>\n",
       "<table border=\"1\" class=\"dataframe\">\n",
       "  <thead>\n",
       "    <tr style=\"text-align: right;\">\n",
       "      <th></th>\n",
       "      <th>Descr</th>\n",
       "      <th>ProdID</th>\n",
       "    </tr>\n",
       "  </thead>\n",
       "  <tbody>\n",
       "    <tr>\n",
       "      <th>560</th>\n",
       "      <td>REGULAR  HAIRCUT  - (GEN)</td>\n",
       "      <td>12939</td>\n",
       "    </tr>\n",
       "    <tr>\n",
       "      <th>190</th>\n",
       "      <td>EYEBROWS THREADING - (LAD)</td>\n",
       "      <td>9252</td>\n",
       "    </tr>\n",
       "    <tr>\n",
       "      <th>497</th>\n",
       "      <td>MOUSTACHE / BEARD TRIM - (GEN)</td>\n",
       "      <td>4796</td>\n",
       "    </tr>\n",
       "    <tr>\n",
       "      <th>664</th>\n",
       "      <td>UPPER LIP THREADING - (LAD)</td>\n",
       "      <td>4377</td>\n",
       "    </tr>\n",
       "    <tr>\n",
       "      <th>561</th>\n",
       "      <td>REGULAR  HAIRCUT  - (GEN) - SENIOR</td>\n",
       "      <td>4320</td>\n",
       "    </tr>\n",
       "    <tr>\n",
       "      <th>592</th>\n",
       "      <td>SHAVING  - (GEN)</td>\n",
       "      <td>1877</td>\n",
       "    </tr>\n",
       "    <tr>\n",
       "      <th>65</th>\n",
       "      <td>BEARD DESIGNING  - (GEN)</td>\n",
       "      <td>1799</td>\n",
       "    </tr>\n",
       "    <tr>\n",
       "      <th>85</th>\n",
       "      <td>CHANGE OF STYLE HAIR CUT - (LAD) - SENIOR</td>\n",
       "      <td>1186</td>\n",
       "    </tr>\n",
       "    <tr>\n",
       "      <th>86</th>\n",
       "      <td>CHANGE OF STYLE HAIRCUT  - (GEN)</td>\n",
       "      <td>1162</td>\n",
       "    </tr>\n",
       "    <tr>\n",
       "      <th>529</th>\n",
       "      <td>P.WAX-  UNDER ARMS  - (LAD)</td>\n",
       "      <td>1059</td>\n",
       "    </tr>\n",
       "    <tr>\n",
       "      <th>522</th>\n",
       "      <td>P.WAX-  FULL ARMS  - (LAD)</td>\n",
       "      <td>1053</td>\n",
       "    </tr>\n",
       "    <tr>\n",
       "      <th>572</th>\n",
       "      <td>RICA  FLAVOURED WAXING UNDER ARMS - (LADIES)</td>\n",
       "      <td>1052</td>\n",
       "    </tr>\n",
       "    <tr>\n",
       "      <th>92</th>\n",
       "      <td>CHIN THREADING - (LAD)</td>\n",
       "      <td>1038</td>\n",
       "    </tr>\n",
       "    <tr>\n",
       "      <th>573</th>\n",
       "      <td>RICA  FLAVOUREDWAXING FULL ARMS - (LADIES)</td>\n",
       "      <td>990</td>\n",
       "    </tr>\n",
       "    <tr>\n",
       "      <th>61</th>\n",
       "      <td>BASIC STYLE  HAIR CUT - (LAD)</td>\n",
       "      <td>928</td>\n",
       "    </tr>\n",
       "    <tr>\n",
       "      <th>220</th>\n",
       "      <td>FOREHEAD THREADING - (LAD)</td>\n",
       "      <td>865</td>\n",
       "    </tr>\n",
       "    <tr>\n",
       "      <th>196</th>\n",
       "      <td>FACE/NECK DE-TAN - (LAD)</td>\n",
       "      <td>771</td>\n",
       "    </tr>\n",
       "    <tr>\n",
       "      <th>269</th>\n",
       "      <td>GLOBAL -NON AMMONIA  COLOR - (GEN)</td>\n",
       "      <td>752</td>\n",
       "    </tr>\n",
       "    <tr>\n",
       "      <th>192</th>\n",
       "      <td>FACE /NECK DETAN - (GEN)</td>\n",
       "      <td>692</td>\n",
       "    </tr>\n",
       "    <tr>\n",
       "      <th>19</th>\n",
       "      <td>ADVANCED STYLE HAIR CUT - (LAD)</td>\n",
       "      <td>650</td>\n",
       "    </tr>\n",
       "    <tr>\n",
       "      <th>270</th>\n",
       "      <td>GLOBAL -NON AMMONIA  COLOR - (GEN) - SENIOR</td>\n",
       "      <td>631</td>\n",
       "    </tr>\n",
       "    <tr>\n",
       "      <th>342</th>\n",
       "      <td>I M ELITE- MEMBERSHIP CARD - GENTS</td>\n",
       "      <td>624</td>\n",
       "    </tr>\n",
       "    <tr>\n",
       "      <th>578</th>\n",
       "      <td>ROOT TOUCH UP -NON AMMONIA  (UP TO 1 INCH) COL...</td>\n",
       "      <td>590</td>\n",
       "    </tr>\n",
       "    <tr>\n",
       "      <th>349</th>\n",
       "      <td>ICE CREAM PEDICURE - REGULAR (LADIES)</td>\n",
       "      <td>554</td>\n",
       "    </tr>\n",
       "    <tr>\n",
       "      <th>345</th>\n",
       "      <td>I M ELITE- MEMBERSHIP CARD- LADIES</td>\n",
       "      <td>539</td>\n",
       "    </tr>\n",
       "    <tr>\n",
       "      <th>344</th>\n",
       "      <td>I M ELITE- MEMBERSHIP CARD- GENTS</td>\n",
       "      <td>519</td>\n",
       "    </tr>\n",
       "    <tr>\n",
       "      <th>343</th>\n",
       "      <td>I M ELITE- MEMBERSHIP CARD - LADIES</td>\n",
       "      <td>481</td>\n",
       "    </tr>\n",
       "    <tr>\n",
       "      <th>686</th>\n",
       "      <td>WAX - UNDER ARMS  - (LAD)</td>\n",
       "      <td>464</td>\n",
       "    </tr>\n",
       "    <tr>\n",
       "      <th>84</th>\n",
       "      <td>CHANGE OF STYLE HAIR CUT - (LAD)</td>\n",
       "      <td>458</td>\n",
       "    </tr>\n",
       "    <tr>\n",
       "      <th>113</th>\n",
       "      <td>COCONUT CADENCE H.MSG - (GEN)</td>\n",
       "      <td>429</td>\n",
       "    </tr>\n",
       "    <tr>\n",
       "      <th>525</th>\n",
       "      <td>P.WAX-  FULL LEGS  - (LAD)</td>\n",
       "      <td>422</td>\n",
       "    </tr>\n",
       "    <tr>\n",
       "      <th>313</th>\n",
       "      <td>HAIRCUT GENTS NORMAL</td>\n",
       "      <td>419</td>\n",
       "    </tr>\n",
       "    <tr>\n",
       "      <th>679</th>\n",
       "      <td>WAX - FULL ARMS  - (LAD)</td>\n",
       "      <td>397</td>\n",
       "    </tr>\n",
       "    <tr>\n",
       "      <th>295</th>\n",
       "      <td>HAIR CUT GIRLS (LESS THAN 10 YRS)  - (LAD)</td>\n",
       "      <td>394</td>\n",
       "    </tr>\n",
       "    <tr>\n",
       "      <th>527</th>\n",
       "      <td>P.WAX-  HALF LEGS  - (LAD)</td>\n",
       "      <td>387</td>\n",
       "    </tr>\n",
       "    <tr>\n",
       "      <th>570</th>\n",
       "      <td>RICA  FLAVOURED WAXING FULL LEGS - (LADIES)</td>\n",
       "      <td>385</td>\n",
       "    </tr>\n",
       "    <tr>\n",
       "      <th>87</th>\n",
       "      <td>CHANGE OF STYLE HAIRCUT  - (GEN) - SENIOR</td>\n",
       "      <td>379</td>\n",
       "    </tr>\n",
       "    <tr>\n",
       "      <th>571</th>\n",
       "      <td>RICA  FLAVOURED WAXING HALF LEGS - (LADIES)</td>\n",
       "      <td>377</td>\n",
       "    </tr>\n",
       "    <tr>\n",
       "      <th>176</th>\n",
       "      <td>EXPRESS (JJ) FACIAL - (LAD)</td>\n",
       "      <td>367</td>\n",
       "    </tr>\n",
       "    <tr>\n",
       "      <th>428</th>\n",
       "      <td>LOREAL SHAMPOO AND CONDITIONING WITH BLAST DRY...</td>\n",
       "      <td>317</td>\n",
       "    </tr>\n",
       "    <tr>\n",
       "      <th>367</th>\n",
       "      <td>INSTA GLOW FACIAL - (LAD)</td>\n",
       "      <td>313</td>\n",
       "    </tr>\n",
       "    <tr>\n",
       "      <th>348</th>\n",
       "      <td>ICE CREAM PEDICURE - REGULAR (GENTS)</td>\n",
       "      <td>310</td>\n",
       "    </tr>\n",
       "    <tr>\n",
       "      <th>510</th>\n",
       "      <td>OLIVE ODYSSEY H.MSG - (GEN)</td>\n",
       "      <td>280</td>\n",
       "    </tr>\n",
       "    <tr>\n",
       "      <th>357</th>\n",
       "      <td>ICE CREAM SPA PEDICURE - SIGNATURE (LADIES)</td>\n",
       "      <td>273</td>\n",
       "    </tr>\n",
       "    <tr>\n",
       "      <th>355</th>\n",
       "      <td>ICE CREAM SPA PEDICURE - PREMIUM (LADIES)</td>\n",
       "      <td>260</td>\n",
       "    </tr>\n",
       "    <tr>\n",
       "      <th>531</th>\n",
       "      <td>P.WAX-  UPPERLIP/CHIN - (LAD)</td>\n",
       "      <td>245</td>\n",
       "    </tr>\n",
       "    <tr>\n",
       "      <th>575</th>\n",
       "      <td>RICA FLAVOURED  WAXING UPPERLIP/CHIN /FOREHEAD...</td>\n",
       "      <td>241</td>\n",
       "    </tr>\n",
       "    <tr>\n",
       "      <th>282</th>\n",
       "      <td>GRAND  LUXE  LIGHTENING FACIAL   (DOUBLEMASK )...</td>\n",
       "      <td>231</td>\n",
       "    </tr>\n",
       "    <tr>\n",
       "      <th>5</th>\n",
       "      <td>ABSOLUTE DE-STRESS (BLEND OF OILS) H.MSG - (GEN)</td>\n",
       "      <td>228</td>\n",
       "    </tr>\n",
       "    <tr>\n",
       "      <th>195</th>\n",
       "      <td>FACE/NECK BLEACHING - (LAD)</td>\n",
       "      <td>202</td>\n",
       "    </tr>\n",
       "  </tbody>\n",
       "</table>\n",
       "</div>"
      ],
      "text/plain": [
       "                                                 Descr  ProdID\n",
       "560                          REGULAR  HAIRCUT  - (GEN)   12939\n",
       "190                         EYEBROWS THREADING - (LAD)    9252\n",
       "497                     MOUSTACHE / BEARD TRIM - (GEN)    4796\n",
       "664                        UPPER LIP THREADING - (LAD)    4377\n",
       "561                 REGULAR  HAIRCUT  - (GEN) - SENIOR    4320\n",
       "592                                   SHAVING  - (GEN)    1877\n",
       "65                            BEARD DESIGNING  - (GEN)    1799\n",
       "85           CHANGE OF STYLE HAIR CUT - (LAD) - SENIOR    1186\n",
       "86                    CHANGE OF STYLE HAIRCUT  - (GEN)    1162\n",
       "529                        P.WAX-  UNDER ARMS  - (LAD)    1059\n",
       "522                         P.WAX-  FULL ARMS  - (LAD)    1053\n",
       "572       RICA  FLAVOURED WAXING UNDER ARMS - (LADIES)    1052\n",
       "92                              CHIN THREADING - (LAD)    1038\n",
       "573         RICA  FLAVOUREDWAXING FULL ARMS - (LADIES)     990\n",
       "61                       BASIC STYLE  HAIR CUT - (LAD)     928\n",
       "220                         FOREHEAD THREADING - (LAD)     865\n",
       "196                           FACE/NECK DE-TAN - (LAD)     771\n",
       "269                 GLOBAL -NON AMMONIA  COLOR - (GEN)     752\n",
       "192                           FACE /NECK DETAN - (GEN)     692\n",
       "19                     ADVANCED STYLE HAIR CUT - (LAD)     650\n",
       "270        GLOBAL -NON AMMONIA  COLOR - (GEN) - SENIOR     631\n",
       "342                 I M ELITE- MEMBERSHIP CARD - GENTS     624\n",
       "578  ROOT TOUCH UP -NON AMMONIA  (UP TO 1 INCH) COL...     590\n",
       "349              ICE CREAM PEDICURE - REGULAR (LADIES)     554\n",
       "345                 I M ELITE- MEMBERSHIP CARD- LADIES     539\n",
       "344                  I M ELITE- MEMBERSHIP CARD- GENTS     519\n",
       "343                I M ELITE- MEMBERSHIP CARD - LADIES     481\n",
       "686                          WAX - UNDER ARMS  - (LAD)     464\n",
       "84                    CHANGE OF STYLE HAIR CUT - (LAD)     458\n",
       "113                      COCONUT CADENCE H.MSG - (GEN)     429\n",
       "525                         P.WAX-  FULL LEGS  - (LAD)     422\n",
       "313                               HAIRCUT GENTS NORMAL     419\n",
       "679                           WAX - FULL ARMS  - (LAD)     397\n",
       "295         HAIR CUT GIRLS (LESS THAN 10 YRS)  - (LAD)     394\n",
       "527                         P.WAX-  HALF LEGS  - (LAD)     387\n",
       "570        RICA  FLAVOURED WAXING FULL LEGS - (LADIES)     385\n",
       "87           CHANGE OF STYLE HAIRCUT  - (GEN) - SENIOR     379\n",
       "571        RICA  FLAVOURED WAXING HALF LEGS - (LADIES)     377\n",
       "176                        EXPRESS (JJ) FACIAL - (LAD)     367\n",
       "428  LOREAL SHAMPOO AND CONDITIONING WITH BLAST DRY...     317\n",
       "367                          INSTA GLOW FACIAL - (LAD)     313\n",
       "348               ICE CREAM PEDICURE - REGULAR (GENTS)     310\n",
       "510                        OLIVE ODYSSEY H.MSG - (GEN)     280\n",
       "357        ICE CREAM SPA PEDICURE - SIGNATURE (LADIES)     273\n",
       "355          ICE CREAM SPA PEDICURE - PREMIUM (LADIES)     260\n",
       "531                      P.WAX-  UPPERLIP/CHIN - (LAD)     245\n",
       "575  RICA FLAVOURED  WAXING UPPERLIP/CHIN /FOREHEAD...     241\n",
       "282  GRAND  LUXE  LIGHTENING FACIAL   (DOUBLEMASK )...     231\n",
       "5     ABSOLUTE DE-STRESS (BLEND OF OILS) H.MSG - (GEN)     228\n",
       "195                        FACE/NECK BLEACHING - (LAD)     202"
      ]
     },
     "execution_count": 11,
     "metadata": {},
     "output_type": "execute_result"
    }
   ],
   "source": [
    "# example 2: organize a given table into a dataframe with customerId, single productId, and purchase count\n",
    "purch = pd.melt(dump_data1.set_index('ClientID')['Descr'].apply(pd.Series).reset_index(), \n",
    "             id_vars=['ClientID'],\n",
    "             value_name='Descr') \\\n",
    "    .dropna().drop(['variable'], axis=1) \\\n",
    "    .groupby(['ClientID', 'Descr']) \\\n",
    "    .agg({'Descr': 'count'}) \\\n",
    "    .rename(columns={'Descr': 'purchase_count'}) \\\n",
    "    .reset_index() \\\n",
    "    .rename(columns={'Descr': 'productId'})\n",
    "\n",
    "purch.sort_values(by='purchase_count',ascending=False).head(10)\n",
    "#purch[(purch.ClientID == 'NEETHU9886523332')]\n",
    "#dump_data1.groupby('Descr')['ProdID'].count().reset_index().sort_values(by='ProdID',ascending=False).head(50)"
   ]
  },
  {
   "cell_type": "code",
   "execution_count": null,
   "metadata": {},
   "outputs": [],
   "source": []
  }
 ],
 "metadata": {
  "kernelspec": {
   "display_name": "Python 3",
   "language": "python",
   "name": "python3"
  },
  "language_info": {
   "codemirror_mode": {
    "name": "ipython",
    "version": 3
   },
   "file_extension": ".py",
   "mimetype": "text/x-python",
   "name": "python",
   "nbconvert_exporter": "python",
   "pygments_lexer": "ipython3",
   "version": "3.6.8"
  }
 },
 "nbformat": 4,
 "nbformat_minor": 2
}
