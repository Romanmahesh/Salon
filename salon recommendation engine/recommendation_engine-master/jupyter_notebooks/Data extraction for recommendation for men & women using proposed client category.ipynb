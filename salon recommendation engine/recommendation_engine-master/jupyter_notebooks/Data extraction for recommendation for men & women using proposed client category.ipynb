{
 "cells": [
  {
   "cell_type": "code",
   "execution_count": 1,
   "metadata": {},
   "outputs": [],
   "source": [
    "import numpy as np\n",
    "import pandas as pd"
   ]
  },
  {
   "cell_type": "code",
   "execution_count": 2,
   "metadata": {},
   "outputs": [],
   "source": [
    "#Load data\n",
    "dump_data1=pd.read_csv(\"datadump_cleaned.csv\")"
   ]
  },
  {
   "cell_type": "code",
   "execution_count": 16,
   "metadata": {},
   "outputs": [],
   "source": [
    "def categorise(data,gender):\n",
    "    #Filter Gender as Men from dump\n",
    "    dump_data=data[data[\"Gender\"]==gender]\n",
    "\n",
    "    #Filter required columns\n",
    "    data1=dump_data.drop(['Client_Category','Qty','Tax','Retail_Price','Mem_Disc','Oth_Disc'],axis=1)\n",
    "\n",
    "    #Derive frequency of clients as featured column\n",
    "    data1['Frequency']=data1.groupby(\"ClientID\")[\"Created_Date2\"].transform('nunique')\n",
    "    #Derive total lifetime spendings of clients as featured column\n",
    "    data1['Spendings']=data1.groupby(\"ClientID\")[\"Total\"].transform('sum')\n",
    "\n",
    "    #Function to categorise clients based on frequency &  spendings\n",
    "    def f(row):\n",
    "        if row['Frequency'] >= 9:\n",
    "            val = 'Loyal'\n",
    "        elif row['Frequency'] == 1:\n",
    "            val = 'Walkin'\n",
    "        elif row['Frequency'] > 4 and  row['Spendings'] >= 50000:\n",
    "            val = 'Premium'\n",
    "        elif row['Frequency'] > 4 and  row['Spendings'] >= 35000:\n",
    "            val = 'VIP'\n",
    "        elif row['Frequency'] >=2 :\n",
    "            val='Repeat'\n",
    "        else:\n",
    "            val=\"others\"    \n",
    "        return val\n",
    "\n",
    "    #Derive category of clients based on frequency &  spendings as featured column\n",
    "    data1['Client_Category'] = data1.apply(f, axis=1)\n",
    "\n",
    "    #Save file to csv\n",
    "    data1.to_csv(\"newcategorydata_m1.csv\")"
   ]
  },
  {
   "cell_type": "code",
   "execution_count": 19,
   "metadata": {},
   "outputs": [],
   "source": [
    "#Generate data for Men\n",
    "categorise(dump_data1,\"Men\")\n",
    "\n",
    "#Generate data for Women\n",
    "categorise(dump_data1,\"Women\")"
   ]
  },
  {
   "cell_type": "code",
   "execution_count": 14,
   "metadata": {},
   "outputs": [
    {
     "data": {
      "text/html": [
       "<div>\n",
       "<style scoped>\n",
       "    .dataframe tbody tr th:only-of-type {\n",
       "        vertical-align: middle;\n",
       "    }\n",
       "\n",
       "    .dataframe tbody tr th {\n",
       "        vertical-align: top;\n",
       "    }\n",
       "\n",
       "    .dataframe thead th {\n",
       "        text-align: right;\n",
       "    }\n",
       "</style>\n",
       "<table border=\"1\" class=\"dataframe\">\n",
       "  <thead>\n",
       "    <tr style=\"text-align: right;\">\n",
       "      <th></th>\n",
       "      <th>ClientID</th>\n",
       "    </tr>\n",
       "    <tr>\n",
       "      <th>Client_Category</th>\n",
       "      <th></th>\n",
       "    </tr>\n",
       "  </thead>\n",
       "  <tbody>\n",
       "    <tr>\n",
       "      <th>Loyal</th>\n",
       "      <td>421</td>\n",
       "    </tr>\n",
       "    <tr>\n",
       "      <th>Premium</th>\n",
       "      <td>2</td>\n",
       "    </tr>\n",
       "    <tr>\n",
       "      <th>Repeat</th>\n",
       "      <td>3408</td>\n",
       "    </tr>\n",
       "    <tr>\n",
       "      <th>Walkin</th>\n",
       "      <td>6210</td>\n",
       "    </tr>\n",
       "  </tbody>\n",
       "</table>\n",
       "</div>"
      ],
      "text/plain": [
       "                 ClientID\n",
       "Client_Category          \n",
       "Loyal                 421\n",
       "Premium                 2\n",
       "Repeat               3408\n",
       "Walkin               6210"
      ]
     },
     "execution_count": 14,
     "metadata": {},
     "output_type": "execute_result"
    }
   ],
   "source": [
    "#Categorywise client count\n",
    "data_mc=data1[[\"ClientID\",\"Client_Category\"]].drop_duplicates()\n",
    "data_mc.groupby(['Client_Category']).count()"
   ]
  }
 ],
 "metadata": {
  "kernelspec": {
   "display_name": "Python 3",
   "language": "python",
   "name": "python3"
  },
  "language_info": {
   "codemirror_mode": {
    "name": "ipython",
    "version": 3
   },
   "file_extension": ".py",
   "mimetype": "text/x-python",
   "name": "python",
   "nbconvert_exporter": "python",
   "pygments_lexer": "ipython3",
   "version": "3.6.8"
  }
 },
 "nbformat": 4,
 "nbformat_minor": 2
}
